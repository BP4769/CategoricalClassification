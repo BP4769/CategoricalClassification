{
 "cells": [
  {
   "cell_type": "code",
   "execution_count": 1,
   "id": "11be9be1",
   "metadata": {},
   "outputs": [],
   "source": [
    "from CategoricalClassification import CategoricalClassification"
   ]
  },
  {
   "cell_type": "code",
   "execution_count": 2,
   "id": "77dddbde",
   "metadata": {},
   "outputs": [
    {
     "name": "stdout",
     "output_type": "stream",
     "text": [
      "[0 1 1 1 0 0 0 1 1 1]\n"
     ]
    }
   ],
   "source": [
    "cc = CategoricalClassification()\n",
    "\n",
    "logical_expression = cc.simple_xor\n",
    "n_informative = 2\n",
    "n_total = 10\n",
    "n_redundant = n_total - n_informative\n",
    "n_samples = 10\n",
    "\n",
    "y = cc.generate_binary_labels(n_samples, 0.5, seed=42)\n",
    "print(y)"
   ]
  },
  {
   "cell_type": "code",
   "execution_count": 3,
   "id": "5f29d794",
   "metadata": {},
   "outputs": [
    {
     "name": "stdout",
     "output_type": "stream",
     "text": [
      "feature set shape: (10, 10)\n"
     ]
    }
   ],
   "source": [
    "X = cc.missing_values_noise(y, logic=logical_expression, n_relevant=n_informative, n_total=n_total, missing=0.3)"
   ]
  },
  {
   "cell_type": "code",
   "execution_count": 4,
   "id": "5c41ab96",
   "metadata": {},
   "outputs": [
    {
     "name": "stdout",
     "output_type": "stream",
     "text": [
      "[[0 0 0 1 0 0 0 1 0 -1]\n",
      " [1 0 -1 1 0 -1 -1 0 -1 -1]\n",
      " [-1 1 1 1 -1 0 1 0 1 -1]\n",
      " [-1 -1 1 1 1 -1 1 -1 0 0]\n",
      " [0 0 1 1 1 0 -1 0 0 -1]\n",
      " [-1 -1 0 0 -1 -1 -1 1 1 0]\n",
      " [-1 1 1 1 0 -1 0 1 0 1]\n",
      " [0 1 -1 0 0 0 0 0 -1 0]\n",
      " [1 0 0 1 1 0 1 -1 1 1]\n",
      " [1 -1 0 1 -1 -1 1 -1 -1 1]]\n"
     ]
    }
   ],
   "source": [
    "print(X)"
   ]
  },
  {
   "cell_type": "code",
   "execution_count": 5,
   "id": "e93bb0c7",
   "metadata": {},
   "outputs": [],
   "source": [
    "X_car = cc.cardinality_noise(y, [2, 48], n_informative, n_redundant, logical_expression, False,  42)"
   ]
  },
  {
   "cell_type": "code",
   "execution_count": 6,
   "id": "f0c64dc0",
   "metadata": {},
   "outputs": [
    {
     "name": "stdout",
     "output_type": "stream",
     "text": [
      "[[ 0  0 11 21 43 24 48 26 41 27]\n",
      " [ 3  0 15 14 46 43  2 36  6 20]\n",
      " [ 0 25  8 38 17  3 24 13 49  8]\n",
      " [ 1 45 25  1 19 27 46  6 43  7]\n",
      " [ 0  1 46 34 13 16 35 49 39  3]\n",
      " [31 39  1  5 41  3 28 17 25 43]\n",
      " [ 1  1 33  9 35 13 30 47 14  7]\n",
      " [ 0  3 13 22 39 20 15 44 17 46]\n",
      " [ 1 22 23 25 24 44 40 28 14 44]\n",
      " [34  0  0 24  6  8 23  0 43  7]]\n"
     ]
    }
   ],
   "source": [
    "print(X_car)"
   ]
  },
  {
   "cell_type": "code",
   "execution_count": null,
   "id": "da7e52ed",
   "metadata": {},
   "outputs": [],
   "source": []
  }
 ],
 "metadata": {
  "kernelspec": {
   "display_name": "Python 3 (ipykernel)",
   "language": "python",
   "name": "python3"
  },
  "language_info": {
   "codemirror_mode": {
    "name": "ipython",
    "version": 3
   },
   "file_extension": ".py",
   "mimetype": "text/x-python",
   "name": "python",
   "nbconvert_exporter": "python",
   "pygments_lexer": "ipython3",
   "version": "3.11.0"
  }
 },
 "nbformat": 4,
 "nbformat_minor": 5
}
