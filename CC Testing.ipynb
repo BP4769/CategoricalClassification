{
 "cells": [
  {
   "attachments": {},
   "cell_type": "markdown",
   "id": "b83aa6b9",
   "metadata": {},
   "source": [
    "## CategoricalClassification Usage\n",
    "\n",
    "_CategoricalClassification_ is a library designed to quickly and easily generate binary categorical datasets. It supports both linearly and non-linearly separable dataset generation, as well as various noise simulating functions.\n"
   ]
  },
  {
   "attachments": {},
   "cell_type": "markdown",
   "id": "b775bb55",
   "metadata": {},
   "source": [
    "### Importing\n",
    "Once copied to your working directory, _CategoricalClassification_ can be imported as any other Python library. "
   ]
  },
  {
   "cell_type": "code",
   "execution_count": 23,
   "id": "11be9be1",
   "metadata": {},
   "outputs": [],
   "source": [
    "\n",
    "from CategoricalClassification import CategoricalClassification\n",
    "cc = CategoricalClassification()\n"
   ]
  },
  {
   "attachments": {},
   "cell_type": "markdown",
   "id": "3e29ff36",
   "metadata": {},
   "source": [
    "### Generating a linearly separable datasets\n",
    "Generates a linearly separable dataset with 100 relevant features, 400 irrelevant features, 10000 samples, with a seed of 42."
   ]
  },
  {
   "cell_type": "code",
   "execution_count": 24,
   "id": "ce1d143b",
   "metadata": {},
   "outputs": [
    {
     "name": "stdout",
     "output_type": "stream",
     "text": [
      "[[0 1 0 ... 0 1 0]\n",
      " [0 0 1 ... 1 1 0]\n",
      " [0 0 0 ... 1 1 0]\n",
      " ...\n",
      " [0 0 0 ... 0 1 1]\n",
      " [1 1 0 ... 1 1 1]\n",
      " [1 1 1 ... 0 1 0]]\n",
      "[1 0 0 ... 1 0 0]\n"
     ]
    }
   ],
   "source": [
    "X,y = cc.generate_linear_binary_data(100, 400, samples=10000, seed=42)\n",
    "print(X)\n",
    "print(y)"
   ]
  },
  {
   "attachments": {},
   "cell_type": "markdown",
   "id": "80f2dcf3",
   "metadata": {},
   "source": [
    "Generates a linearly separable dataset with 100 relevant features and 400 irrelevant features from a label array."
   ]
  },
  {
   "cell_type": "code",
   "execution_count": 25,
   "id": "7cb1d8fc",
   "metadata": {},
   "outputs": [
    {
     "name": "stdout",
     "output_type": "stream",
     "text": [
      "[[0 0 0 ... 0 0 0]\n",
      " [1 0 1 ... 0 1 0]\n",
      " [1 0 0 ... 1 0 1]\n",
      " ...\n",
      " [1 0 1 ... 1 1 0]\n",
      " [0 1 1 ... 0 0 1]\n",
      " [0 1 1 ... 0 1 1]]\n",
      "[0 1 1 ... 1 0 0]\n",
      "True\n"
     ]
    }
   ],
   "source": [
    "labels = cc.generate_binary_labels(10000, 0.5, seed=42)\n",
    "X,y = cc.generate_linear_binary_data(100,400, labels=labels, seed=42)\n",
    "print(X)\n",
    "print(y)\n",
    "print(all(y == labels))"
   ]
  },
  {
   "attachments": {},
   "cell_type": "markdown",
   "id": "6e6bdde8",
   "metadata": {},
   "source": [
    "### Generating a non-linearly separable datasets\n",
    "Generates a non-linearly separable dataset with 100 relevant features, 400 irrelevant features, 10000 samples, with a seed of 42."
   ]
  },
  {
   "cell_type": "code",
   "execution_count": 26,
   "id": "24a6a8d2",
   "metadata": {},
   "outputs": [
    {
     "name": "stdout",
     "output_type": "stream",
     "text": [
      "[[1 0 1 ... 1 1 0]\n",
      " [1 1 0 ... 0 0 0]\n",
      " [1 0 0 ... 0 1 1]\n",
      " ...\n",
      " [0 0 0 ... 0 0 1]\n",
      " [1 0 1 ... 0 1 0]\n",
      " [0 1 0 ... 0 0 0]]\n",
      "[0 0 1 ... 1 1 1]\n"
     ]
    }
   ],
   "source": [
    "X,y = cc.generate_nonlinear_data(100, 10000, p=0.5, n_irrelevant=400, seed=42)\n",
    "print(X)\n",
    "print(y)"
   ]
  },
  {
   "attachments": {},
   "cell_type": "markdown",
   "id": "ace84fcd",
   "metadata": {},
   "source": [
    "Generates a non-linearly separable dataset with 100 relevant features and 400 irrelevant features from a label array."
   ]
  },
  {
   "cell_type": "code",
   "execution_count": 27,
   "id": "9c09e9bc",
   "metadata": {},
   "outputs": [
    {
     "ename": "IndexError",
     "evalue": "index 0 is out of bounds for axis 0 with size 0",
     "output_type": "error",
     "traceback": [
      "\u001b[0;31m---------------------------------------------------------------------------\u001b[0m",
      "\u001b[0;31mIndexError\u001b[0m                                Traceback (most recent call last)",
      "Cell \u001b[0;32mIn[27], line 2\u001b[0m\n\u001b[1;32m      1\u001b[0m labels \u001b[39m=\u001b[39m cc\u001b[39m.\u001b[39mgenerate_binary_labels(\u001b[39m10000\u001b[39m, \u001b[39m0.5\u001b[39m, seed\u001b[39m=\u001b[39m\u001b[39m42\u001b[39m)\n\u001b[0;32m----> 2\u001b[0m X,y \u001b[39m=\u001b[39m cc\u001b[39m.\u001b[39mgenerate_nonlinear_data(\u001b[39m100\u001b[39m, \u001b[39m10000\u001b[39m, n_irrelevant\u001b[39m=\u001b[39m\u001b[39m400\u001b[39m, labels\u001b[39m=\u001b[39mlabels, seed\u001b[39m=\u001b[39m\u001b[39m42\u001b[39m)\n\u001b[1;32m      3\u001b[0m \u001b[39mprint\u001b[39m(X)\n\u001b[1;32m      4\u001b[0m \u001b[39mprint\u001b[39m(y)\n",
      "File \u001b[0;32m~/Documents/GitHub/CategoricalClassification/CategoricalClassification.py:562\u001b[0m, in \u001b[0;36mCategoricalClassification.generate_nonlinear_data\u001b[0;34m(self, n_features, n_samples, p, n_irrelevant, labels, seed)\u001b[0m\n\u001b[1;32m    560\u001b[0m t \u001b[39m=\u001b[39m []\n\u001b[1;32m    561\u001b[0m \u001b[39mfor\u001b[39;00m l \u001b[39min\u001b[39;00m labels:\n\u001b[0;32m--> 562\u001b[0m     ix \u001b[39m=\u001b[39m np\u001b[39m.\u001b[39mwhere(l \u001b[39m==\u001b[39m generated_labels)[\u001b[39m0\u001b[39m][\u001b[39m0\u001b[39m]\n\u001b[1;32m    563\u001b[0m     t\u001b[39m.\u001b[39mappend(ix)\n\u001b[1;32m    564\u001b[0m     generated_labels[ix] \u001b[39m=\u001b[39m \u001b[39m-\u001b[39m\u001b[39m1\u001b[39m\n",
      "\u001b[0;31mIndexError\u001b[0m: index 0 is out of bounds for axis 0 with size 0"
     ]
    }
   ],
   "source": [
    "labels = cc.generate_binary_labels(10000, 0.5, seed=42)\n",
    "X,y = cc.generate_nonlinear_data(100, 10000, n_irrelevant=400, labels=labels, seed=42)\n",
    "print(X)\n",
    "print(y)\n",
    "print(all(y == labels))"
   ]
  },
  {
   "attachments": {},
   "cell_type": "markdown",
   "id": "11710de2",
   "metadata": {},
   "source": [
    "\n",
    "### Applying noise to datasets\n",
    "Applying cardinal noise to any binary or categorical dataset X, cardinality of 10 to class label 1."
   ]
  },
  {
   "cell_type": "code",
   "execution_count": null,
   "id": "6a4efb1e",
   "metadata": {},
   "outputs": [
    {
     "name": "stdout",
     "output_type": "stream",
     "text": [
      "[[1 6 1 ... 1 1 0]\n",
      " [1 1 4 ... 8 0 0]\n",
      " [1 3 8 ... 0 1 1]\n",
      " ...\n",
      " [0 9 0 ... 7 5 1]\n",
      " [1 1 1 ... 8 1 0]\n",
      " [2 1 7 ... 4 9 6]]\n"
     ]
    }
   ],
   "source": [
    "X = cc.replace_with_cardinality(X, [10, 1], seed=42)\n",
    "print(X)"
   ]
  },
  {
   "attachments": {},
   "cell_type": "markdown",
   "id": "2ceb2a38",
   "metadata": {},
   "source": [
    "Applying categorical noise to 20% of any binary dataset X."
   ]
  },
  {
   "cell_type": "code",
   "execution_count": null,
   "id": "529ee6bc",
   "metadata": {},
   "outputs": [
    {
     "name": "stdout",
     "output_type": "stream",
     "text": [
      "[[0 0 0 ... 0 0 1]\n",
      " [1 1 4 ... 8 0 0]\n",
      " [1 3 8 ... 0 1 1]\n",
      " ...\n",
      " [0 9 0 ... 7 5 1]\n",
      " [0 0 0 ... 0 0 1]\n",
      " [2 1 7 ... 4 9 6]]\n"
     ]
    }
   ],
   "source": [
    "X = cc.noisy_data_cat(X, p=0.2, seed=42)\n",
    "print(X)"
   ]
  },
  {
   "attachments": {},
   "cell_type": "markdown",
   "id": "906a9cfc",
   "metadata": {},
   "source": [
    "Applying missing values to 35% of any dataset X."
   ]
  },
  {
   "cell_type": "code",
   "execution_count": 19,
   "id": "44ce2f1a",
   "metadata": {},
   "outputs": [
    {
     "name": "stdout",
     "output_type": "stream",
     "text": [
      "[[-1 6 -1 ... 1 1 -1]\n",
      " [1 -1 4 ... 8 -1 0]\n",
      " [-1 -1 8 ... 0 1 -1]\n",
      " ...\n",
      " [-1 9 -1 ... 7 5 1]\n",
      " [1 -1 1 ... -1 1 0]\n",
      " [2 1 -1 ... 4 9 6]]\n"
     ]
    }
   ],
   "source": [
    "X = cc.replace_with_none(X, 0.35, seed=42)\n",
    "print(X)"
   ]
  }
 ],
 "metadata": {
  "kernelspec": {
   "display_name": "Python 3 (ipykernel)",
   "language": "python",
   "name": "python3"
  },
  "language_info": {
   "codemirror_mode": {
    "name": "ipython",
    "version": 3
   },
   "file_extension": ".py",
   "mimetype": "text/x-python",
   "name": "python",
   "nbconvert_exporter": "python",
   "pygments_lexer": "ipython3",
   "version": "3.11.0"
  }
 },
 "nbformat": 4,
 "nbformat_minor": 5
}
