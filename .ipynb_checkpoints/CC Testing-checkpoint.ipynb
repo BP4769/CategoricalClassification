{
 "cells": [
  {
   "cell_type": "markdown",
   "id": "b83aa6b9",
   "metadata": {},
   "source": [
    "## CategoricalClassification Usage\n",
    "\n",
    "_CategoricalClassification_ is a library designed to quickly and easily generate binary categorical datasets. It supports both linearly and non-linearly separable dataset generation, as well as various noise simulating functions.\n"
   ]
  },
  {
   "cell_type": "markdown",
   "id": "b775bb55",
   "metadata": {},
   "source": [
    "### Importing\n",
    "Once copied to your working directory, _CategoricalClassification_ can be imported as any other Python library. "
   ]
  },
  {
   "cell_type": "code",
   "execution_count": 1,
   "id": "11be9be1",
   "metadata": {},
   "outputs": [],
   "source": [
    "from CategoricalClassification import CategoricalClassification\n",
    "cc = CategoricalClassification()"
   ]
  },
  {
   "cell_type": "markdown",
   "id": "3e29ff36",
   "metadata": {},
   "source": [
    "### Generating a linearly separable datasets\n",
    "Generates a linearly separable dataset with 100 relevant features, 400 irrelevant features, 10000 samples, with a seed of 42."
   ]
  },
  {
   "cell_type": "code",
   "execution_count": 2,
   "id": "ce1d143b",
   "metadata": {},
   "outputs": [
    {
     "name": "stdout",
     "output_type": "stream",
     "text": [
      "[[0 1 0 ... 0 1 0]\n",
      " [0 0 1 ... 1 1 0]\n",
      " [0 0 0 ... 1 1 0]\n",
      " ...\n",
      " [0 0 0 ... 0 1 1]\n",
      " [1 1 0 ... 1 1 1]\n",
      " [1 1 1 ... 0 1 0]]\n",
      "[1 0 0 ... 1 0 0]\n"
     ]
    }
   ],
   "source": [
    "X,y = cc.generate_linear_binary_data(100, 400, samples=10000, seed=42)\n",
    "print(X)\n",
    "print(y)"
   ]
  },
  {
   "cell_type": "markdown",
   "id": "80f2dcf3",
   "metadata": {},
   "source": [
    "Generates a linearly separable dataset with 100 relevant features and 400 irrelevant features from a label array."
   ]
  },
  {
   "cell_type": "code",
   "execution_count": 3,
   "id": "7cb1d8fc",
   "metadata": {},
   "outputs": [
    {
     "name": "stdout",
     "output_type": "stream",
     "text": [
      "[[0 0 0 ... 0 0 0]\n",
      " [1 0 1 ... 0 1 0]\n",
      " [1 0 0 ... 1 0 1]\n",
      " ...\n",
      " [1 0 1 ... 1 1 0]\n",
      " [0 1 1 ... 0 0 1]\n",
      " [0 1 1 ... 0 1 1]]\n",
      "[0 1 1 ... 1 0 0]\n",
      "True\n"
     ]
    }
   ],
   "source": [
    "labels = cc.generate_binary_labels(10000, 0.5, seed=42)\n",
    "X,y = cc.generate_linear_binary_data(100,400, labels=labels, seed=42)\n",
    "print(X)\n",
    "print(y)\n",
    "print(all(y == labels))"
   ]
  },
  {
   "cell_type": "markdown",
   "id": "6e6bdde8",
   "metadata": {},
   "source": [
    "### Generating a non-linearly separable datasets\n",
    "Generates a non-linearly separable dataset with 100 relevant features, 400 irrelevant features, 10000 samples, with a seed of 42."
   ]
  },
  {
   "cell_type": "code",
   "execution_count": 4,
   "id": "24a6a8d2",
   "metadata": {},
   "outputs": [
    {
     "name": "stdout",
     "output_type": "stream",
     "text": [
      "[[1 0 1 ... 1 1 0]\n",
      " [1 1 0 ... 0 0 0]\n",
      " [1 0 0 ... 0 1 1]\n",
      " ...\n",
      " [0 0 0 ... 0 0 1]\n",
      " [1 0 1 ... 0 1 0]\n",
      " [0 1 0 ... 0 0 0]]\n",
      "[0 0 1 ... 1 1 1]\n"
     ]
    }
   ],
   "source": [
    "X,y = cc.generate_nonlinear_data(100, 10000, p=0.5, n_irrelevant=400, seed=42)\n",
    "print(X)\n",
    "print(y)"
   ]
  },
  {
   "cell_type": "markdown",
   "id": "ace84fcd",
   "metadata": {},
   "source": [
    "Generates a non-linearly separable dataset with 100 relevant features and 400 irrelevant features from a label array."
   ]
  },
  {
   "cell_type": "code",
   "execution_count": 5,
   "id": "9c09e9bc",
   "metadata": {},
   "outputs": [
    {
     "name": "stdout",
     "output_type": "stream",
     "text": [
      "[[0 1 0 ... 1 0 0]\n",
      " [0 1 1 ... 1 0 1]\n",
      " [0 1 0 ... 0 1 1]\n",
      " ...\n",
      " [1 0 1 ... 1 0 1]\n",
      " [1 1 0 ... 0 1 0]\n",
      " [0 1 1 ... 1 0 1]]\n",
      "[0 1 1 ... 1 0 0]\n",
      "True\n"
     ]
    }
   ],
   "source": [
    "labels = cc.generate_binary_labels(10000, 0.5, seed=42)\n",
    "X,y = cc.generate_nonlinear_data(100, 10000, n_irrelevant=400, labels=labels, seed=42)\n",
    "print(X)\n",
    "print(y)\n",
    "print(all(y == labels))"
   ]
  },
  {
   "cell_type": "markdown",
   "id": "11710de2",
   "metadata": {},
   "source": [
    "\n",
    "### Applying noise to datasets\n",
    "Applying cardinal noise to any binary or categorical dataset X, cardinality of 10 to class label 1."
   ]
  },
  {
   "cell_type": "code",
   "execution_count": 6,
   "id": "6a4efb1e",
   "metadata": {},
   "outputs": [
    {
     "name": "stdout",
     "output_type": "stream",
     "text": [
      "[[6 1 3 ... 1 6 9]\n",
      " [8 1 1 ... 1 8 1]\n",
      " [3 1 9 ... 4 1 1]\n",
      " ...\n",
      " [1 2 1 ... 1 1 1]\n",
      " [1 1 7 ... 2 1 5]\n",
      " [8 1 1 ... 1 9 1]]\n"
     ]
    }
   ],
   "source": [
    "X = cc.replace_with_cardinality(X, [10, 1], seed=42)\n",
    "print(X)"
   ]
  },
  {
   "cell_type": "markdown",
   "id": "2ceb2a38",
   "metadata": {},
   "source": [
    "Applying categorical noise to 20% of any binary dataset X."
   ]
  },
  {
   "cell_type": "code",
   "execution_count": 7,
   "id": "529ee6bc",
   "metadata": {},
   "outputs": [
    {
     "name": "stdout",
     "output_type": "stream",
     "text": [
      "[[0 0 0 ... 0 0 0]\n",
      " [8 1 1 ... 1 8 1]\n",
      " [3 1 9 ... 4 1 1]\n",
      " ...\n",
      " [1 2 1 ... 1 1 1]\n",
      " [0 0 0 ... 0 0 0]\n",
      " [8 1 1 ... 1 9 1]]\n"
     ]
    }
   ],
   "source": [
    "X = cc.noisy_data_cat(X, p=0.2, seed=42)\n",
    "print(X)"
   ]
  },
  {
   "cell_type": "markdown",
   "id": "906a9cfc",
   "metadata": {},
   "source": [
    "Applying missing values to 35% of any dataset X."
   ]
  },
  {
   "cell_type": "code",
   "execution_count": 8,
   "id": "44ce2f1a",
   "metadata": {},
   "outputs": [
    {
     "name": "stdout",
     "output_type": "stream",
     "text": [
      "[[-1 0 -1 ... 0 0 -1]\n",
      " [8 -1 1 ... 1 -1 1]\n",
      " [-1 -1 9 ... 4 1 -1]\n",
      " ...\n",
      " [-1 2 -1 ... 1 1 1]\n",
      " [0 -1 0 ... -1 0 0]\n",
      " [8 1 -1 ... 1 9 1]]\n"
     ]
    }
   ],
   "source": [
    "X = cc.replace_with_none(X, 0.35, seed=42)\n",
    "print(X)"
   ]
  }
 ],
 "metadata": {
  "kernelspec": {
   "display_name": "Python 3 (ipykernel)",
   "language": "python",
   "name": "python3"
  },
  "language_info": {
   "codemirror_mode": {
    "name": "ipython",
    "version": 3
   },
   "file_extension": ".py",
   "mimetype": "text/x-python",
   "name": "python",
   "nbconvert_exporter": "python",
   "pygments_lexer": "ipython3",
   "version": "3.9.7"
  }
 },
 "nbformat": 4,
 "nbformat_minor": 5
}
